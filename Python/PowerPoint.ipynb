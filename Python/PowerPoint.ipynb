{
 "cells": [
  {
   "cell_type": "markdown",
   "id": "e928d2b6-663c-43bb-85f2-4bd35289849c",
   "metadata": {},
   "source": [
    "# **PowerPoint**"
   ]
  },
  {
   "cell_type": "markdown",
   "id": "96be2322-514d-4585-90c1-30c367648578",
   "metadata": {},
   "source": [
    "## **Librerías**"
   ]
  },
  {
   "cell_type": "code",
   "execution_count": 1,
   "id": "3b641d4a-5a3a-4e63-bef0-c43a0fbacd81",
   "metadata": {},
   "outputs": [],
   "source": [
    "import pandas as pd\n",
    "import numpy as np\n",
    "import matplotlib.pyplot as plt\n",
    "import seaborn as sns"
   ]
  },
  {
   "cell_type": "code",
   "execution_count": 2,
   "id": "729b957a-36c3-4ce2-ad0e-48d6eb4b3092",
   "metadata": {},
   "outputs": [],
   "source": [
    "pd.options.display.max_columns = False"
   ]
  },
  {
   "cell_type": "code",
   "execution_count": 3,
   "id": "2c33c772-97ef-4041-bc40-82f29fa222d2",
   "metadata": {},
   "outputs": [],
   "source": [
    "import requests"
   ]
  },
  {
   "cell_type": "code",
   "execution_count": 5,
   "id": "f7e6cc2d-d8bc-4d3e-b84d-9559f1365e98",
   "metadata": {},
   "outputs": [],
   "source": [
    "from datetime import datetime, timedelta\n",
    "import winsound"
   ]
  },
  {
   "cell_type": "code",
   "execution_count": 6,
   "id": "ae01ad9d-f777-40d8-b738-018c440c70ea",
   "metadata": {},
   "outputs": [],
   "source": [
    "import json"
   ]
  },
  {
   "cell_type": "markdown",
   "id": "5ad62b1a-9fcc-4909-9b61-8d1b769518f8",
   "metadata": {},
   "source": [
    "## **Variables Generales**"
   ]
  },
  {
   "cell_type": "code",
   "execution_count": 7,
   "id": "fc51b11c-2393-4b73-8fd5-9d5201843a14",
   "metadata": {},
   "outputs": [],
   "source": [
    "datetime_now = datetime.now()\n",
    "dia = int(str(datetime.now()).replace('-', '')[:8])"
   ]
  },
  {
   "cell_type": "markdown",
   "id": "9f38d6a0-489f-4292-8086-c4f56eb2b0f5",
   "metadata": {},
   "source": [
    "## **1. Llamada de los datos**"
   ]
  },
  {
   "cell_type": "code",
   "execution_count": 14,
   "id": "8e0e578d-bdec-4d75-a2d4-f55199c4ace5",
   "metadata": {},
   "outputs": [],
   "source": [
    "try:\n",
    "    df = pd.read_csv('./Datos/currencies.csv')\n",
    "except:\n",
    "    full_list_url = 'https://finance.yahoo.com/currencies'\n",
    "    full_list_page = requests.get(full_list_url)\n",
    "\n",
    "    df = pd.read_html(full_list_page.text)[0].drop_duplicates()\n",
    "    \n",
    "    df.to_csv('./Datos/currencies.csv', index=False)"
   ]
  },
  {
   "cell_type": "code",
   "execution_count": 15,
   "id": "b1501bdb-a2d1-40e7-b528-12eb8d85127e",
   "metadata": {},
   "outputs": [
    {
     "data": {
      "text/html": [
       "<div>\n",
       "<style scoped>\n",
       "    .dataframe tbody tr th:only-of-type {\n",
       "        vertical-align: middle;\n",
       "    }\n",
       "\n",
       "    .dataframe tbody tr th {\n",
       "        vertical-align: top;\n",
       "    }\n",
       "\n",
       "    .dataframe thead th {\n",
       "        text-align: right;\n",
       "    }\n",
       "</style>\n",
       "<table border=\"1\" class=\"dataframe\">\n",
       "  <thead>\n",
       "    <tr style=\"text-align: right;\">\n",
       "      <th></th>\n",
       "      <th>Symbol</th>\n",
       "      <th>Name</th>\n",
       "      <th>Last Price</th>\n",
       "      <th>Change</th>\n",
       "      <th>% Change</th>\n",
       "      <th>52 Week Range</th>\n",
       "      <th>Day Chart</th>\n",
       "      <th>pct_change</th>\n",
       "    </tr>\n",
       "  </thead>\n",
       "  <tbody>\n",
       "    <tr>\n",
       "      <th>2</th>\n",
       "      <td>GBPUSD=X</td>\n",
       "      <td>USD/GBP</td>\n",
       "      <td>1.2283</td>\n",
       "      <td>-0.0049</td>\n",
       "      <td>-0.40%</td>\n",
       "      <td>NaN</td>\n",
       "      <td>NaN</td>\n",
       "      <td>-0.4</td>\n",
       "    </tr>\n",
       "  </tbody>\n",
       "</table>\n",
       "</div>"
      ],
      "text/plain": [
       "     Symbol     Name  Last Price  Change % Change  52 Week Range  Day Chart  pct_change\n",
       "2  GBPUSD=X  USD/GBP      1.2283 -0.0049   -0.40%            NaN        NaN        -0.4"
      ]
     },
     "execution_count": 15,
     "metadata": {},
     "output_type": "execute_result"
    }
   ],
   "source": [
    "df.sample()"
   ]
  },
  {
   "cell_type": "markdown",
   "id": "51cfa90b-b15d-4c7d-bca1-d831354d069f",
   "metadata": {},
   "source": [
    "## **2. Limpieza y exploración**"
   ]
  },
  {
   "cell_type": "code",
   "execution_count": 16,
   "id": "7c3f67df-d736-4a6d-bdf5-73840b2d21f0",
   "metadata": {},
   "outputs": [],
   "source": [
    "df['pct_change'] = df['% Change'].str.slice(stop=-1).astype('float')"
   ]
  },
  {
   "cell_type": "code",
   "execution_count": null,
   "id": "320bd615-eda2-4b6a-a635-5a6531e3e305",
   "metadata": {},
   "outputs": [],
   "source": []
  },
  {
   "cell_type": "code",
   "execution_count": null,
   "id": "93d2aff3-9254-4f4d-92dd-d9f9af642c58",
   "metadata": {},
   "outputs": [],
   "source": []
  }
 ],
 "metadata": {
  "kernelspec": {
   "display_name": "Python 3 (ipykernel)",
   "language": "python",
   "name": "python3"
  },
  "language_info": {
   "codemirror_mode": {
    "name": "ipython",
    "version": 3
   },
   "file_extension": ".py",
   "mimetype": "text/x-python",
   "name": "python",
   "nbconvert_exporter": "python",
   "pygments_lexer": "ipython3",
   "version": "3.9.13"
  }
 },
 "nbformat": 4,
 "nbformat_minor": 5
}
