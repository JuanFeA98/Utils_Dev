{
 "cells": [
  {
   "cell_type": "markdown",
   "id": "e928d2b6-663c-43bb-85f2-4bd35289849c",
   "metadata": {},
   "source": [
    "# **PowerPoint**"
   ]
  },
  {
   "cell_type": "markdown",
   "id": "96be2322-514d-4585-90c1-30c367648578",
   "metadata": {},
   "source": [
    "## **Librerías**"
   ]
  },
  {
   "cell_type": "code",
   "execution_count": 6,
   "id": "3b641d4a-5a3a-4e63-bef0-c43a0fbacd81",
   "metadata": {},
   "outputs": [],
   "source": [
    "import pandas as pd\n",
    "import numpy as np\n",
    "import matplotlib.pyplot as plt\n",
    "import seaborn as sns"
   ]
  },
  {
   "cell_type": "code",
   "execution_count": 7,
   "id": "729b957a-36c3-4ce2-ad0e-48d6eb4b3092",
   "metadata": {},
   "outputs": [],
   "source": [
    "pd.options.display.max_columns = False"
   ]
  },
  {
   "cell_type": "code",
   "execution_count": 8,
   "id": "2c33c772-97ef-4041-bc40-82f29fa222d2",
   "metadata": {},
   "outputs": [],
   "source": [
    "import requests"
   ]
  },
  {
   "cell_type": "code",
   "execution_count": 9,
   "id": "f7e6cc2d-d8bc-4d3e-b84d-9559f1365e98",
   "metadata": {},
   "outputs": [],
   "source": [
    "from datetime import datetime, timedelta\n",
    "import winsound"
   ]
  },
  {
   "cell_type": "code",
   "execution_count": 10,
   "id": "ae01ad9d-f777-40d8-b738-018c440c70ea",
   "metadata": {},
   "outputs": [],
   "source": [
    "import json"
   ]
  },
  {
   "cell_type": "code",
   "execution_count": 11,
   "id": "a8256d41-c7f8-4573-8eb0-0d0d9d1c73d1",
   "metadata": {},
   "outputs": [],
   "source": [
    "from pptx import Presentation\n",
    "from pptx.util import Inches"
   ]
  },
  {
   "cell_type": "markdown",
   "id": "5ad62b1a-9fcc-4909-9b61-8d1b769518f8",
   "metadata": {},
   "source": [
    "## **Variables Generales**"
   ]
  },
  {
   "cell_type": "code",
   "execution_count": 7,
   "id": "fc51b11c-2393-4b73-8fd5-9d5201843a14",
   "metadata": {},
   "outputs": [],
   "source": [
    "datetime_now = datetime.now()\n",
    "dia = int(str(datetime.now()).replace('-', '')[:8])"
   ]
  },
  {
   "cell_type": "markdown",
   "id": "9f38d6a0-489f-4292-8086-c4f56eb2b0f5",
   "metadata": {},
   "source": [
    "## **1. Llamada de los datos**"
   ]
  },
  {
   "cell_type": "code",
   "execution_count": 20,
   "id": "8e0e578d-bdec-4d75-a2d4-f55199c4ace5",
   "metadata": {},
   "outputs": [
    {
     "name": "stdout",
     "output_type": "stream",
     "text": [
      "Wall time: 41 ms\n"
     ]
    }
   ],
   "source": [
    "%%time\n",
    "try:\n",
    "    df = pd.read_csv('./Datos/currencies.csv')\n",
    "except:\n",
    "    full_list_url = 'https://finance.yahoo.com/currencies'\n",
    "    full_list_page = requests.get(full_list_url)\n",
    "\n",
    "    df = pd.read_html(full_list_page.text)[0].drop_duplicates()\n",
    "    \n",
    "    df.to_csv('./Datos/currencies.csv', index=False)"
   ]
  },
  {
   "cell_type": "code",
   "execution_count": 21,
   "id": "b1501bdb-a2d1-40e7-b528-12eb8d85127e",
   "metadata": {},
   "outputs": [
    {
     "data": {
      "text/html": [
       "<div>\n",
       "<style scoped>\n",
       "    .dataframe tbody tr th:only-of-type {\n",
       "        vertical-align: middle;\n",
       "    }\n",
       "\n",
       "    .dataframe tbody tr th {\n",
       "        vertical-align: top;\n",
       "    }\n",
       "\n",
       "    .dataframe thead th {\n",
       "        text-align: right;\n",
       "    }\n",
       "</style>\n",
       "<table border=\"1\" class=\"dataframe\">\n",
       "  <thead>\n",
       "    <tr style=\"text-align: right;\">\n",
       "      <th></th>\n",
       "      <th>Symbol</th>\n",
       "      <th>Name</th>\n",
       "      <th>Last Price</th>\n",
       "      <th>Change</th>\n",
       "      <th>% Change</th>\n",
       "      <th>52 Week Range</th>\n",
       "      <th>Day Chart</th>\n",
       "    </tr>\n",
       "  </thead>\n",
       "  <tbody>\n",
       "    <tr>\n",
       "      <th>15</th>\n",
       "      <td>INR=X</td>\n",
       "      <td>USD/INR</td>\n",
       "      <td>82.4275</td>\n",
       "      <td>0.2875</td>\n",
       "      <td>+0.35%</td>\n",
       "      <td>NaN</td>\n",
       "      <td>NaN</td>\n",
       "    </tr>\n",
       "  </tbody>\n",
       "</table>\n",
       "</div>"
      ],
      "text/plain": [
       "   Symbol     Name  Last Price  Change % Change  52 Week Range  Day Chart\n",
       "15  INR=X  USD/INR     82.4275  0.2875   +0.35%            NaN        NaN"
      ]
     },
     "execution_count": 21,
     "metadata": {},
     "output_type": "execute_result"
    }
   ],
   "source": [
    "df.sample()"
   ]
  },
  {
   "cell_type": "markdown",
   "id": "51cfa90b-b15d-4c7d-bca1-d831354d069f",
   "metadata": {},
   "source": [
    "## **2. Limpieza y exploración**"
   ]
  },
  {
   "cell_type": "code",
   "execution_count": 22,
   "id": "7c3f67df-d736-4a6d-bdf5-73840b2d21f0",
   "metadata": {},
   "outputs": [],
   "source": [
    "df['pct_change'] = df['% Change'].str.slice(stop=-1).astype('float')"
   ]
  },
  {
   "cell_type": "code",
   "execution_count": 23,
   "id": "8a02f712-8411-40bf-9e7f-a584638a9420",
   "metadata": {},
   "outputs": [
    {
     "data": {
      "text/html": [
       "<div>\n",
       "<style scoped>\n",
       "    .dataframe tbody tr th:only-of-type {\n",
       "        vertical-align: middle;\n",
       "    }\n",
       "\n",
       "    .dataframe tbody tr th {\n",
       "        vertical-align: top;\n",
       "    }\n",
       "\n",
       "    .dataframe thead th {\n",
       "        text-align: right;\n",
       "    }\n",
       "</style>\n",
       "<table border=\"1\" class=\"dataframe\">\n",
       "  <thead>\n",
       "    <tr style=\"text-align: right;\">\n",
       "      <th></th>\n",
       "      <th>Symbol</th>\n",
       "      <th>Name</th>\n",
       "      <th>Last Price</th>\n",
       "      <th>Change</th>\n",
       "      <th>% Change</th>\n",
       "      <th>52 Week Range</th>\n",
       "      <th>Day Chart</th>\n",
       "      <th>pct_change</th>\n",
       "    </tr>\n",
       "  </thead>\n",
       "  <tbody>\n",
       "    <tr>\n",
       "      <th>8</th>\n",
       "      <td>EURCAD=X</td>\n",
       "      <td>EUR/CAD</td>\n",
       "      <td>1.4589</td>\n",
       "      <td>-0.0056</td>\n",
       "      <td>-0.39%</td>\n",
       "      <td>NaN</td>\n",
       "      <td>NaN</td>\n",
       "      <td>-0.39</td>\n",
       "    </tr>\n",
       "  </tbody>\n",
       "</table>\n",
       "</div>"
      ],
      "text/plain": [
       "     Symbol     Name  Last Price  Change % Change  52 Week Range  Day Chart  pct_change\n",
       "8  EURCAD=X  EUR/CAD      1.4589 -0.0056   -0.39%            NaN        NaN       -0.39"
      ]
     },
     "execution_count": 23,
     "metadata": {},
     "output_type": "execute_result"
    }
   ],
   "source": [
    "df.sample()"
   ]
  },
  {
   "cell_type": "markdown",
   "id": "bd227529-e2a2-40ba-8992-5084712dd78a",
   "metadata": {},
   "source": [
    "**Identificamos los mayores y menores cambios porcentuales**"
   ]
  },
  {
   "cell_type": "code",
   "execution_count": 24,
   "id": "93d2aff3-9254-4f4d-92dd-d9f9af642c58",
   "metadata": {},
   "outputs": [],
   "source": [
    "sort_df = df.sort_values('pct_change', ascending=False)\n",
    "sort_df = sort_df[['Name', 'Last Price', 'Change', 'pct_change']]"
   ]
  },
  {
   "cell_type": "code",
   "execution_count": 34,
   "id": "97230a33-1e06-492c-8a8a-9395ed336264",
   "metadata": {},
   "outputs": [
    {
     "data": {
      "text/html": [
       "<div>\n",
       "<style scoped>\n",
       "    .dataframe tbody tr th:only-of-type {\n",
       "        vertical-align: middle;\n",
       "    }\n",
       "\n",
       "    .dataframe tbody tr th {\n",
       "        vertical-align: top;\n",
       "    }\n",
       "\n",
       "    .dataframe thead th {\n",
       "        text-align: right;\n",
       "    }\n",
       "</style>\n",
       "<table border=\"1\" class=\"dataframe\">\n",
       "  <thead>\n",
       "    <tr style=\"text-align: right;\">\n",
       "      <th></th>\n",
       "      <th>Name</th>\n",
       "      <th>Last Price</th>\n",
       "      <th>Change</th>\n",
       "      <th>pct_change</th>\n",
       "    </tr>\n",
       "  </thead>\n",
       "  <tbody>\n",
       "    <tr>\n",
       "      <th>0</th>\n",
       "      <td>USD/THB</td>\n",
       "      <td>34.4200</td>\n",
       "      <td>0.2700</td>\n",
       "      <td>0.79</td>\n",
       "    </tr>\n",
       "    <tr>\n",
       "      <th>1</th>\n",
       "      <td>USD/PHP</td>\n",
       "      <td>54.5300</td>\n",
       "      <td>0.2640</td>\n",
       "      <td>0.49</td>\n",
       "    </tr>\n",
       "    <tr>\n",
       "      <th>2</th>\n",
       "      <td>USD/ZAR</td>\n",
       "      <td>17.8541</td>\n",
       "      <td>0.0789</td>\n",
       "      <td>0.44</td>\n",
       "    </tr>\n",
       "    <tr>\n",
       "      <th>3</th>\n",
       "      <td>USD/JPY</td>\n",
       "      <td>133.3390</td>\n",
       "      <td>0.5420</td>\n",
       "      <td>0.41</td>\n",
       "    </tr>\n",
       "    <tr>\n",
       "      <th>4</th>\n",
       "      <td>USD/CNY</td>\n",
       "      <td>6.8918</td>\n",
       "      <td>0.0247</td>\n",
       "      <td>0.36</td>\n",
       "    </tr>\n",
       "  </tbody>\n",
       "</table>\n",
       "</div>"
      ],
      "text/plain": [
       "      Name  Last Price  Change  pct_change\n",
       "0  USD/THB     34.4200  0.2700        0.79\n",
       "1  USD/PHP     54.5300  0.2640        0.49\n",
       "2  USD/ZAR     17.8541  0.0789        0.44\n",
       "3  USD/JPY    133.3390  0.5420        0.41\n",
       "4  USD/CNY      6.8918  0.0247        0.36"
      ]
     },
     "execution_count": 34,
     "metadata": {},
     "output_type": "execute_result"
    }
   ],
   "source": [
    "top_df = sort_df.head(5).reset_index(drop=True)\n",
    "top_name = top_df['Name'][0].replace('/', '')\n",
    "top_df"
   ]
  },
  {
   "cell_type": "code",
   "execution_count": 35,
   "id": "e003bc55-f70f-43d7-a225-effdce609b56",
   "metadata": {},
   "outputs": [
    {
     "data": {
      "text/html": [
       "<div>\n",
       "<style scoped>\n",
       "    .dataframe tbody tr th:only-of-type {\n",
       "        vertical-align: middle;\n",
       "    }\n",
       "\n",
       "    .dataframe tbody tr th {\n",
       "        vertical-align: top;\n",
       "    }\n",
       "\n",
       "    .dataframe thead th {\n",
       "        text-align: right;\n",
       "    }\n",
       "</style>\n",
       "<table border=\"1\" class=\"dataframe\">\n",
       "  <thead>\n",
       "    <tr style=\"text-align: right;\">\n",
       "      <th></th>\n",
       "      <th>Name</th>\n",
       "      <th>Last Price</th>\n",
       "      <th>Change</th>\n",
       "      <th>pct_change</th>\n",
       "    </tr>\n",
       "  </thead>\n",
       "  <tbody>\n",
       "    <tr>\n",
       "      <th>0</th>\n",
       "      <td>USD/NZD</td>\n",
       "      <td>0.6224</td>\n",
       "      <td>-0.0037</td>\n",
       "      <td>-0.59</td>\n",
       "    </tr>\n",
       "    <tr>\n",
       "      <th>1</th>\n",
       "      <td>EUR/USD</td>\n",
       "      <td>1.0797</td>\n",
       "      <td>-0.0050</td>\n",
       "      <td>-0.46</td>\n",
       "    </tr>\n",
       "    <tr>\n",
       "      <th>2</th>\n",
       "      <td>EUR/CAD</td>\n",
       "      <td>1.4589</td>\n",
       "      <td>-0.0056</td>\n",
       "      <td>-0.39</td>\n",
       "    </tr>\n",
       "    <tr>\n",
       "      <th>3</th>\n",
       "      <td>USD/GBP</td>\n",
       "      <td>1.2284</td>\n",
       "      <td>-0.0048</td>\n",
       "      <td>-0.39</td>\n",
       "    </tr>\n",
       "    <tr>\n",
       "      <th>4</th>\n",
       "      <td>USD/RUB</td>\n",
       "      <td>77.6800</td>\n",
       "      <td>-0.2960</td>\n",
       "      <td>-0.38</td>\n",
       "    </tr>\n",
       "  </tbody>\n",
       "</table>\n",
       "</div>"
      ],
      "text/plain": [
       "      Name  Last Price  Change  pct_change\n",
       "0  USD/NZD      0.6224 -0.0037       -0.59\n",
       "1  EUR/USD      1.0797 -0.0050       -0.46\n",
       "2  EUR/CAD      1.4589 -0.0056       -0.39\n",
       "3  USD/GBP      1.2284 -0.0048       -0.39\n",
       "4  USD/RUB     77.6800 -0.2960       -0.38"
      ]
     },
     "execution_count": 35,
     "metadata": {},
     "output_type": "execute_result"
    }
   ],
   "source": [
    "bottom_df = sort_df.tail(5).sort_values('pct_change').reset_index(drop=True)\n",
    "bottom_name = bottom_df['Name'][0].replace('/', '')\n",
    "bottom_df"
   ]
  },
  {
   "cell_type": "markdown",
   "id": "cc3e9505-4118-4329-a8e0-e98a3f9531a3",
   "metadata": {},
   "source": [
    "## **3. Llamada de más datos**"
   ]
  },
  {
   "cell_type": "code",
   "execution_count": 41,
   "id": "72e10497-a54b-4bc8-b323-39ad244f659e",
   "metadata": {},
   "outputs": [],
   "source": [
    "def llamada_precios(indicador):\n",
    "    url = f'https://query1.finance.yahoo.com/v8/finance/chart/{indicador}=X?region=US&lang=en-US&includePrePost=false&interval=30m&useYfid=true&range=1mo&corsDomain=finance.yahoo.com&.tsrc=finance'\n",
    " \n",
    "    header = {\n",
    "        'User-Agent': 'Mozilla/5.0 (Macintosh; Intel Mac OS X 10_11_5) AppleWebKit/537.36 (KHTML, like Gecko) Chrome/50.0.2661.102 Safari/537.36'\n",
    "    }\n",
    "\n",
    "    page = requests.get(url, headers=header)\n",
    "    \n",
    "    return page"
   ]
  },
  {
   "cell_type": "code",
   "execution_count": 43,
   "id": "899e9655-849d-4add-85ef-090089c28128",
   "metadata": {},
   "outputs": [],
   "source": [
    "USDTHB = llamada_precios('USDTHB')\n",
    "USDNZD = llamada_precios('USDNZD')"
   ]
  },
  {
   "cell_type": "code",
   "execution_count": 80,
   "id": "d2cd5e58-904d-43ec-9f85-0dd1e910b37a",
   "metadata": {},
   "outputs": [],
   "source": [
    "def grafico_precios(precios, nombre):\n",
    "    data_json = json.loads(precios.text)\n",
    "    list_price = data_json['chart']['result'][0]['indicators']['quote'][0]['close']\n",
    "    list_price = [i for i in list_price if i != None]    \n",
    "    \n",
    "    fig, ax = plt.subplots(figsize=(12, 6))\n",
    "\n",
    "    ax.plot(list_price, color='#43B7A4')\n",
    "    ax.set_xticks([])\n",
    "    ax.tick_params(\n",
    "        axis='y',\n",
    "        colors='#43B7A4',\n",
    "        labelsize=12\n",
    "    )\n",
    "\n",
    "    for axis in ['top', 'bottom', 'left', 'right']:\n",
    "        ax.spines[axis].set_color('#43B7A4')\n",
    "        ax.spines[axis].set_linewidth(2)\n",
    "\n",
    "    plt.savefig(f'./Graficos/{nombre}.png', transparent=True)"
   ]
  },
  {
   "cell_type": "code",
   "execution_count": 83,
   "id": "e8b9417b-44e4-4564-bfbe-7a5eb9110142",
   "metadata": {},
   "outputs": [],
   "source": [
    "grafico_precios(USDTHB, 'Grafico_USDTHB')\n",
    "grafico_precios(USDNZD, 'Grafico_USDNZD')"
   ]
  },
  {
   "cell_type": "markdown",
   "id": "308ba626-aa44-40c3-87a0-73742a24459c",
   "metadata": {},
   "source": [
    "## **4. Trabajando con PowerPoint**"
   ]
  },
  {
   "cell_type": "markdown",
   "id": "c81a28ed-fb87-49f2-aae1-106a5f71056b",
   "metadata": {},
   "source": [
    "### **Slide básico**"
   ]
  },
  {
   "cell_type": "code",
   "execution_count": 23,
   "id": "93982bff-65bc-43b1-ac04-778e30c61ea4",
   "metadata": {},
   "outputs": [],
   "source": [
    "prs = Presentation()\n",
    "\n",
    "title_slide_layout = prs.slide_layouts[0]\n",
    "slide = prs.slides.add_slide(title_slide_layout) \n",
    "\n",
    "title = slide.shapes.title\n",
    "subtitle = slide.placeholders[1]\n",
    "\n",
    "title.text = 'Hello, World!'\n",
    "subtitle.text = 'Python PPTX was here'\n",
    "\n",
    "prs.save('test.pptx')"
   ]
  },
  {
   "cell_type": "markdown",
   "id": "184b2665-d4e0-4d62-8f12-df51758ce8ec",
   "metadata": {},
   "source": [
    "### **Slide con biñetas**"
   ]
  },
  {
   "cell_type": "code",
   "execution_count": 31,
   "id": "861c0827-cc76-4aa0-9141-896a63283609",
   "metadata": {},
   "outputs": [],
   "source": [
    "from pptx import Presentation\n",
    "from pptx.enum.shapes import MSO_SHAPE\n",
    "from pptx.dml.color import RGBColor\n",
    "from pptx.util import Inches, Pt\n",
    "from pptx.enum.dml import MSO_THEME_COLOR"
   ]
  },
  {
   "cell_type": "code",
   "execution_count": 165,
   "id": "c41af910-f244-443a-9427-d29b4bde439e",
   "metadata": {},
   "outputs": [],
   "source": [
    "title = 'Hello World'\n",
    "prs = Presentation()"
   ]
  },
  {
   "cell_type": "code",
   "execution_count": 166,
   "id": "8b13b746-7978-4ce0-b6be-a49377612cf7",
   "metadata": {},
   "outputs": [],
   "source": [
    "slide = prs.slides.add_slide(prs.slide_layouts[6])"
   ]
  },
  {
   "cell_type": "code",
   "execution_count": 167,
   "id": "30f35d0b-ac93-42af-9e51-3700440c2395",
   "metadata": {},
   "outputs": [],
   "source": [
    "#prs.slide_width = Inches(13)\n",
    "#prs.slide_heigth = Inches(9)"
   ]
  },
  {
   "cell_type": "code",
   "execution_count": 168,
   "id": "b94c7587-5cf3-4071-976c-15bca1c687a0",
   "metadata": {},
   "outputs": [],
   "source": [
    "shape = slide.shapes.add_shape(\n",
    "    MSO_SHAPE.RECTANGLE, \n",
    "    0, 0, Inches(10), Inches(0.8)\n",
    ")\n",
    "\n",
    "shape.shadow.inherit = False\n",
    "\n",
    "fill=shape.fill\n",
    "fill.solid()\n",
    "fill.fore_color.rgb=RGBColor(11, 36, 71)\n",
    "\n",
    "line=shape.line\n",
    "line.color.rgb=RGBColor(11, 36, 71)\n",
    "\n",
    "logo = slide.shapes.add_picture(\n",
    "    './Graficos/logo.png',\n",
    "    Inches(0.2), Inches(0.1), Inches(0.5), Inches(0.5)\n",
    ")"
   ]
  },
  {
   "cell_type": "code",
   "execution_count": 169,
   "id": "9770b214-5493-42c2-ab44-7433dbee3738",
   "metadata": {},
   "outputs": [],
   "source": [
    "prs.save('test.pptx')"
   ]
  },
  {
   "cell_type": "code",
   "execution_count": null,
   "id": "f317216a-9b6c-426d-90e3-c45a91e7cc00",
   "metadata": {},
   "outputs": [],
   "source": []
  },
  {
   "cell_type": "code",
   "execution_count": null,
   "id": "12e519da-4ea2-48bd-b6b7-7b3246e91721",
   "metadata": {},
   "outputs": [],
   "source": []
  },
  {
   "cell_type": "code",
   "execution_count": null,
   "id": "2c58b639-e31b-4168-9b48-c407174d38d3",
   "metadata": {},
   "outputs": [],
   "source": []
  },
  {
   "cell_type": "code",
   "execution_count": null,
   "id": "75dd8ca5-a0f1-40d8-8105-a500a639e8d8",
   "metadata": {},
   "outputs": [],
   "source": []
  }
 ],
 "metadata": {
  "kernelspec": {
   "display_name": "Python 3 (ipykernel)",
   "language": "python",
   "name": "python3"
  },
  "language_info": {
   "codemirror_mode": {
    "name": "ipython",
    "version": 3
   },
   "file_extension": ".py",
   "mimetype": "text/x-python",
   "name": "python",
   "nbconvert_exporter": "python",
   "pygments_lexer": "ipython3",
   "version": "3.9.13"
  }
 },
 "nbformat": 4,
 "nbformat_minor": 5
}
